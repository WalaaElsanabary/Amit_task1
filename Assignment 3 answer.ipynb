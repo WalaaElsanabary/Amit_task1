{
 "cells": [
  {
   "cell_type": "markdown",
   "metadata": {},
   "source": [
    "# Assignment 3"
   ]
  },
  {
   "cell_type": "markdown",
   "metadata": {},
   "source": [
    "### Write a function to count the number 4 in a given list."
   ]
  },
  {
   "cell_type": "code",
   "execution_count": 6,
   "metadata": {
    "scrolled": true
   },
   "outputs": [
    {
     "name": "stdout",
     "output_type": "stream",
     "text": [
      "count of 4 is= 2\n"
     ]
    }
   ],
   "source": [
    "x=[5,7,9,7,4,8,7,4,9]\n",
    "count=x.count(4)\n",
    "print(\"count of 4 is=\",count)"
   ]
  },
  {
   "cell_type": "markdown",
   "metadata": {},
   "source": [
    "### write a  function to check whether a number is divisible by another number."
   ]
  },
  {
   "cell_type": "code",
   "execution_count": 8,
   "metadata": {},
   "outputs": [
    {
     "name": "stdout",
     "output_type": "stream",
     "text": [
      "the number x is divisable by another number y\n"
     ]
    }
   ],
   "source": [
    "x=32\n",
    "y=4\n",
    "if (x%y==0):\n",
    "    print(\"the number x is divisable by another number y\")\n",
    "else:\n",
    "    print(\"the number x is not divisable by another number y\")\n",
    "    "
   ]
  },
  {
   "cell_type": "markdown",
   "metadata": {},
   "source": [
    "### write a function to find the maximum and minimum numbers from a sequence of numbers."
   ]
  },
  {
   "cell_type": "code",
   "execution_count": 9,
   "metadata": {},
   "outputs": [
    {
     "name": "stdout",
     "output_type": "stream",
     "text": [
      "maximum number is: 500\n",
      "minimum number is: 5\n"
     ]
    }
   ],
   "source": [
    "y=[5,8,7,10,22,5,8,222,500]\n",
    "print(\"maximum number is:\",max(y))\n",
    "print(\"minimum number is:\",min(y))"
   ]
  },
  {
   "cell_type": "markdown",
   "metadata": {},
   "source": [
    "### Write a Python function that takes two lists and returns True if they have at least one common member."
   ]
  },
  {
   "cell_type": "code",
   "execution_count": 10,
   "metadata": {
    "scrolled": true
   },
   "outputs": [
    {
     "name": "stdout",
     "output_type": "stream",
     "text": [
      "enter the elements of the first list: 5 7 8 9\n",
      "enter the elements of the second list: 7 10 15\n",
      "True\n"
     ]
    }
   ],
   "source": [
    "def com(list1,list2):\n",
    "    for i in list1:\n",
    "        for n in list2:\n",
    "            if (i==n):\n",
    "                return print(\"True\")\n",
    "                \n",
    "    return print(\"False\")\n",
    "x=input(\"enter the elements of the first list: \")\n",
    "y=input(\"enter the elements of the second list: \")\n",
    "com(x,y)\n",
    "            "
   ]
  },
  {
   "cell_type": "markdown",
   "metadata": {},
   "source": [
    "### Write a Python function to calculate the factorial of a number (a non-negative integer). The function accepts the number from the user"
   ]
  },
  {
   "cell_type": "code",
   "execution_count": 11,
   "metadata": {},
   "outputs": [
    {
     "name": "stdout",
     "output_type": "stream",
     "text": [
      "please enter your number6\n",
      "the factorial of 6 is: 720\n"
     ]
    }
   ],
   "source": [
    "def fac(x):\n",
    "    if (x==1):\n",
    "        return 1\n",
    "    else:\n",
    "        return x * fac(x-1)\n",
    "\n",
    "\n",
    "f=int(input(\"please enter your number\"))\n",
    "print(\"the factorial of {} is:\".format(f),fac(f))\n",
    "\n",
    "\n"
   ]
  },
  {
   "cell_type": "markdown",
   "metadata": {},
   "source": [
    "### Write a Python function to check whether a number is in a given range.\n",
    "\n",
    "### The range is from 3 to 11\n"
   ]
  },
  {
   "cell_type": "code",
   "execution_count": 13,
   "metadata": {},
   "outputs": [
    {
     "name": "stdout",
     "output_type": "stream",
     "text": [
      "please enter the number that you want to check:11\n",
      "the number is in a given range\n"
     ]
    }
   ],
   "source": [
    "def check(x):\n",
    "        if x in range(3,12):\n",
    "            return print(\"the number is in a given range\")\n",
    "        else:\n",
    "            return print(\"the number is not in a given range\")\n",
    "        \n",
    "\n",
    "c=int(input(\"please enter the number that you want to check:\"))\n",
    "check(c)\n",
    "        "
   ]
  },
  {
   "cell_type": "markdown",
   "metadata": {},
   "source": [
    "### Write a  program to create the multiplication table (from 1 to 10) of a number."
   ]
  },
  {
   "cell_type": "code",
   "execution_count": 14,
   "metadata": {},
   "outputs": [
    {
     "name": "stdout",
     "output_type": "stream",
     "text": [
      "1 * 1 = 1 \n",
      "\n",
      "1 * 2 = 2 \n",
      "\n",
      "1 * 3 = 3 \n",
      "\n",
      "1 * 4 = 4 \n",
      "\n",
      "1 * 5 = 5 \n",
      "\n",
      "1 * 6 = 6 \n",
      "\n",
      "1 * 7 = 7 \n",
      "\n",
      "1 * 8 = 8 \n",
      "\n",
      "1 * 9 = 9 \n",
      "\n",
      "1 * 10 = 10 \n",
      "\n",
      "2 * 1 = 2 \n",
      "\n",
      "2 * 2 = 4 \n",
      "\n",
      "2 * 3 = 6 \n",
      "\n",
      "2 * 4 = 8 \n",
      "\n",
      "2 * 5 = 10 \n",
      "\n",
      "2 * 6 = 12 \n",
      "\n",
      "2 * 7 = 14 \n",
      "\n",
      "2 * 8 = 16 \n",
      "\n",
      "2 * 9 = 18 \n",
      "\n",
      "2 * 10 = 20 \n",
      "\n",
      "3 * 1 = 3 \n",
      "\n",
      "3 * 2 = 6 \n",
      "\n",
      "3 * 3 = 9 \n",
      "\n",
      "3 * 4 = 12 \n",
      "\n",
      "3 * 5 = 15 \n",
      "\n",
      "3 * 6 = 18 \n",
      "\n",
      "3 * 7 = 21 \n",
      "\n",
      "3 * 8 = 24 \n",
      "\n",
      "3 * 9 = 27 \n",
      "\n",
      "3 * 10 = 30 \n",
      "\n",
      "4 * 1 = 4 \n",
      "\n",
      "4 * 2 = 8 \n",
      "\n",
      "4 * 3 = 12 \n",
      "\n",
      "4 * 4 = 16 \n",
      "\n",
      "4 * 5 = 20 \n",
      "\n",
      "4 * 6 = 24 \n",
      "\n",
      "4 * 7 = 28 \n",
      "\n",
      "4 * 8 = 32 \n",
      "\n",
      "4 * 9 = 36 \n",
      "\n",
      "4 * 10 = 40 \n",
      "\n",
      "5 * 1 = 5 \n",
      "\n",
      "5 * 2 = 10 \n",
      "\n",
      "5 * 3 = 15 \n",
      "\n",
      "5 * 4 = 20 \n",
      "\n",
      "5 * 5 = 25 \n",
      "\n",
      "5 * 6 = 30 \n",
      "\n",
      "5 * 7 = 35 \n",
      "\n",
      "5 * 8 = 40 \n",
      "\n",
      "5 * 9 = 45 \n",
      "\n",
      "5 * 10 = 50 \n",
      "\n",
      "6 * 1 = 6 \n",
      "\n",
      "6 * 2 = 12 \n",
      "\n",
      "6 * 3 = 18 \n",
      "\n",
      "6 * 4 = 24 \n",
      "\n",
      "6 * 5 = 30 \n",
      "\n",
      "6 * 6 = 36 \n",
      "\n",
      "6 * 7 = 42 \n",
      "\n",
      "6 * 8 = 48 \n",
      "\n",
      "6 * 9 = 54 \n",
      "\n",
      "6 * 10 = 60 \n",
      "\n",
      "7 * 1 = 7 \n",
      "\n",
      "7 * 2 = 14 \n",
      "\n",
      "7 * 3 = 21 \n",
      "\n",
      "7 * 4 = 28 \n",
      "\n",
      "7 * 5 = 35 \n",
      "\n",
      "7 * 6 = 42 \n",
      "\n",
      "7 * 7 = 49 \n",
      "\n",
      "7 * 8 = 56 \n",
      "\n",
      "7 * 9 = 63 \n",
      "\n",
      "7 * 10 = 70 \n",
      "\n",
      "8 * 1 = 8 \n",
      "\n",
      "8 * 2 = 16 \n",
      "\n",
      "8 * 3 = 24 \n",
      "\n",
      "8 * 4 = 32 \n",
      "\n",
      "8 * 5 = 40 \n",
      "\n",
      "8 * 6 = 48 \n",
      "\n",
      "8 * 7 = 56 \n",
      "\n",
      "8 * 8 = 64 \n",
      "\n",
      "8 * 9 = 72 \n",
      "\n",
      "8 * 10 = 80 \n",
      "\n",
      "9 * 1 = 9 \n",
      "\n",
      "9 * 2 = 18 \n",
      "\n",
      "9 * 3 = 27 \n",
      "\n",
      "9 * 4 = 36 \n",
      "\n",
      "9 * 5 = 45 \n",
      "\n",
      "9 * 6 = 54 \n",
      "\n",
      "9 * 7 = 63 \n",
      "\n",
      "9 * 8 = 72 \n",
      "\n",
      "9 * 9 = 81 \n",
      "\n",
      "9 * 10 = 90 \n",
      "\n",
      "10 * 1 = 10 \n",
      "\n",
      "10 * 2 = 20 \n",
      "\n",
      "10 * 3 = 30 \n",
      "\n",
      "10 * 4 = 40 \n",
      "\n",
      "10 * 5 = 50 \n",
      "\n",
      "10 * 6 = 60 \n",
      "\n",
      "10 * 7 = 70 \n",
      "\n",
      "10 * 8 = 80 \n",
      "\n",
      "10 * 9 = 90 \n",
      "\n",
      "10 * 10 = 100 \n",
      "\n"
     ]
    }
   ],
   "source": [
    "for i in range(1,11):\n",
    "    for y in range(1,11):\n",
    "        print(i,\"*\",y,\"=\",i*y,\"\\n\")\n"
   ]
  },
  {
   "cell_type": "markdown",
   "metadata": {},
   "source": [
    "#### LESSER OF TWO EVENS: Write a function that returns the lesser of two given numbers *if* both numbers are even, but returns the greater if one or both numbers are odd\n",
    "    lesser_of_two_evens(2,4) --> 2\n",
    "    lesser_of_two_evens(2,5) --> 5"
   ]
  },
  {
   "cell_type": "code",
   "execution_count": 17,
   "metadata": {},
   "outputs": [
    {
     "name": "stdout",
     "output_type": "stream",
     "text": [
      "please enter your number8 \n",
      "enter the second num16\n",
      "lesser_of_two_evens (8,16) --> 8\n"
     ]
    }
   ],
   "source": [
    "def lesser(x,y):\n",
    "    if (x % 2 == 0 and y % 2 == 0):\n",
    "        print(\"lesser_of_two_evens ({},{})\".format(x,y),\"-->\",min(x,y))\n",
    "    else:\n",
    "        print(\"lesser_of_two_evens ({},{})\".format(x,y),\"-->\",max(x,y))\n",
    "\n",
    "n=int(input(\"please enter your number\"))   \n",
    "m=int(input(\"enter the second num\"))\n",
    "lesser(n,m)"
   ]
  },
  {
   "cell_type": "markdown",
   "metadata": {},
   "source": [
    "#### ANIMAL CRACKERS: Write a function takes a two-word string and returns True if both words begin with same letter\n",
    "    animal_crackers('Levelheaded Llama') --> True\n",
    "    animal_crackers('Crazy Kangaroo') --> False"
   ]
  },
  {
   "cell_type": "code",
   "execution_count": 18,
   "metadata": {},
   "outputs": [
    {
     "name": "stdout",
     "output_type": "stream",
     "text": [
      "enter two wordsCrazy Kangaroo\n",
      "animal_crackers(['Crazy', 'Kangaroo']) --> False\n"
     ]
    }
   ],
   "source": [
    "def ancra(y):\n",
    "    if y[0][0]==y[1][0]:\n",
    "        print(\"animal_crackers {}\".format(y),\"--> True\")\n",
    "    else:\n",
    "        print(\"animal_crackers({})\".format(y),\"--> False\")\n",
    "z=input(\"enter two words\")\n",
    "my_word=z.split()\n",
    "ancra(my_word)"
   ]
  },
  {
   "cell_type": "markdown",
   "metadata": {},
   "source": [
    "#### MAKES TWENTY: Given two integers, return True if the sum of the integers is 20 *or* if one of the integers is 20. If not, return False\n",
    "\n",
    "    makes_twenty(20,10) --> True\n",
    "    makes_twenty(12,8) --> True\n",
    "    makes_twenty(2,3) --> False"
   ]
  },
  {
   "cell_type": "code",
   "execution_count": 19,
   "metadata": {},
   "outputs": [
    {
     "name": "stdout",
     "output_type": "stream",
     "text": [
      "enter the first num20\n",
      "enter the second num10\n",
      "makes_twenty(20,10) --> True\n"
     ]
    }
   ],
   "source": [
    "x=int(input(\"enter the first num\"))\n",
    "y=int(input(\"enter the second num\"))\n",
    "if(x + y == 20 or x == 20 or y==20):\n",
    "    print(\"makes_twenty({},{})\".format(x,y),\"-->\",\"True\")\n",
    "else:\n",
    "    print(\"makes_twenty({},{})\".format(x,y),\"-->\",\"False\")\n",
    "    \n"
   ]
  },
  {
   "cell_type": "markdown",
   "metadata": {},
   "source": [
    "#### ALMOST THERE: Given an integer n, return True if n is within 10 of either 100 or 200\n",
    "\n",
    "    almost_there(90) --> True\n",
    "    almost_there(104) --> True\n",
    "    almost_there(150) --> False\n",
    "    almost_there(209) --> True\n",
    "    \n",
    "NOTE: `abs(num)` returns the absolute value of a number"
   ]
  },
  {
   "cell_type": "code",
   "execution_count": 20,
   "metadata": {},
   "outputs": [
    {
     "name": "stdout",
     "output_type": "stream",
     "text": [
      "please enter your number100\n",
      "almost_there(100) --> True\n"
     ]
    }
   ],
   "source": [
    "x=int(input(\"please enter your number\"))\n",
    "y=abs(x)\n",
    "if y in range(90,110):  \n",
    "    print(\"almost_there({})\".format(x),\"--> True\")\n",
    "elif y in range(190,210):\n",
    "    print(\"almost_there({})\".format(x),\"--> True\")  \n",
    "else:\n",
    "    print(\"almost_there({})\".format(x),\"--> False\")\n",
    "    "
   ]
  },
  {
   "cell_type": "markdown",
   "metadata": {},
   "source": [
    "#### BLACKJACK: Given three integers between 1 and 11, if their sum is less than or equal to 21, return their sum. If their sum exceeds 21 *and* there's an eleven, reduce the total sum by 10. Finally, if the sum  exceeds 21, return 'BUST'\n",
    "    blackjack(5,6,7) --> 18\n",
    "    blackjack(9,9,9) --> 'BUST'\n",
    "    blackjack(9,9,11) --> 19"
   ]
  },
  {
   "cell_type": "code",
   "execution_count": 5,
   "metadata": {},
   "outputs": [
    {
     "name": "stdout",
     "output_type": "stream",
     "text": [
      "please enter three numbers between 1 and 11 seberated by space50 11 30\n",
      "blackjack(50 11 30) --> 81\n"
     ]
    }
   ],
   "source": [
    "x=input(\"please enter three numbers between 1 and 11 seberated by space\")\n",
    "n=x.split(\" \")\n",
    "y=int(n[0])+int(n[1])+int(n[2])\n",
    "if (y <=21):\n",
    "    print(\"blackjack({})\".format(x),\"-->\",y)\n",
    "elif (y>21 and (int(n[0])==11 or int(n[1])==11 or int(n[2])==11)):\n",
    "    print(\"blackjack({})\".format(x),\"-->\",y-10)\n",
    "else:\n",
    "    print(\"blackjack({})\".format(x),\"--> BUST\")"
   ]
  }
 ],
 "metadata": {
  "kernelspec": {
   "display_name": "Python 3 (ipykernel)",
   "language": "python",
   "name": "python3"
  },
  "language_info": {
   "codemirror_mode": {
    "name": "ipython",
    "version": 3
   },
   "file_extension": ".py",
   "mimetype": "text/x-python",
   "name": "python",
   "nbconvert_exporter": "python",
   "pygments_lexer": "ipython3",
   "version": "3.9.7"
  }
 },
 "nbformat": 4,
 "nbformat_minor": 2
}
