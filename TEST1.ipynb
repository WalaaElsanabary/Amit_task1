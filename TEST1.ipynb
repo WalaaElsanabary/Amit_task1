{
 "cells": [
  {
   "cell_type": "code",
   "execution_count": 1,
   "id": "97284a7c",
   "metadata": {},
   "outputs": [
    {
     "name": "stdout",
     "output_type": "stream",
     "text": [
      "please enter first name, last name, gender and ID seprated by commaA,F,D,124\n",
      "List :  ['A', 'F', 'D', '124']\n"
     ]
    }
   ],
   "source": [
    "a= input(\"please enter first name, last name, gender and ID seprated by comma\") #get user info\n",
    "lines = a.split(\",\")\n",
    "print('List : ',lines)\n",
    "\n",
    "def open_file(lines):\n",
    "    with open('test.txt', 'w') as f:\n",
    "        for line in lines:\n",
    "            f.write(line)\n",
    "            f.write('\\n')\n",
    "    return\n",
    "open_file(lines)"
   ]
  },
  {
   "cell_type": "code",
   "execution_count": null,
   "id": "2f6eb672",
   "metadata": {},
   "outputs": [],
   "source": []
  }
 ],
 "metadata": {
  "kernelspec": {
   "display_name": "Python 3 (ipykernel)",
   "language": "python",
   "name": "python3"
  },
  "language_info": {
   "codemirror_mode": {
    "name": "ipython",
    "version": 3
   },
   "file_extension": ".py",
   "mimetype": "text/x-python",
   "name": "python",
   "nbconvert_exporter": "python",
   "pygments_lexer": "ipython3",
   "version": "3.9.7"
  }
 },
 "nbformat": 4,
 "nbformat_minor": 5
}
